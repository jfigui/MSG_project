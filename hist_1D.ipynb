{
 "cells": [
  {
   "cell_type": "code",
   "execution_count": 1,
   "metadata": {},
   "outputs": [
    {
     "name": "stdout",
     "output_type": "stream",
     "text": [
      "\n",
      "## You are using the Python ARM Radar Toolkit (Py-ART), an open source\n",
      "## library for working with weather radar data. Py-ART is partly\n",
      "## supported by the U.S. Department of Energy as part of the Atmospheric\n",
      "## Radiation Measurement (ARM) Climate Research Facility, an Office of\n",
      "## Science user facility.\n",
      "##\n",
      "## If you use this software to prepare a publication, please cite:\n",
      "##\n",
      "##     JJ Helmus and SM Collis, JORS 2016, doi: 10.5334/jors.119\n",
      "\n"
     ]
    }
   ],
   "source": [
    "import glob\n",
    "import os\n",
    "import pyart\n",
    "import numpy as np\n",
    "import pandas as pd\n",
    "from copy import deepcopy\n",
    "import matplotlib.pyplot as plt\n",
    "%matplotlib inline"
   ]
  },
  {
   "cell_type": "code",
   "execution_count": 2,
   "metadata": {},
   "outputs": [
    {
     "name": "stderr",
     "output_type": "stream",
     "text": [
      "/opt/anaconda3/envs/exts-ml2/lib/python3.7/site-packages/ipykernel/ipkernel.py:287: DeprecationWarning: `should_run_async` will not call `transform_cell` automatically in the future. Please pass the result to `transformed_cell` argument and any exception that happen during thetransform in `preprocessing_exc_tuple` in IPython 7.17 and above.\n",
      "  and should_run_async(code)\n"
     ]
    }
   ],
   "source": [
    "# suppress anoying iypthon warnings. Not ideal since we suppress also potentially relevant warnings\n",
    "import warnings\n",
    "warnings.filterwarnings('ignore')"
   ]
  },
  {
   "cell_type": "code",
   "execution_count": 3,
   "metadata": {},
   "outputs": [],
   "source": [
    "# Function to read original dataset\n",
    "# data is stored as (nz, ny, nx), we return (nx, ny)\n",
    "def read_nc(fname):\n",
    "    sat_grid = pyart.io.read_grid(fname)\n",
    "    for field_name in sat_grid.fields.keys():\n",
    "        data = np.transpose(np.squeeze(sat_grid.fields[field_name]['data']))\n",
    "    return data        "
   ]
  },
  {
   "cell_type": "code",
   "execution_count": 4,
   "metadata": {},
   "outputs": [],
   "source": [
    "def compute_1d_hist(field, vmin, vmax, step):\n",
    "    # get bins\n",
    "    bin_edges = np.linspace(vmin-step/2., vmax+step/2., num=int((vmax-vmin)/step)+2)\n",
    "    step_aux = bin_edges[1]-bin_edges[0]\n",
    "    bin_centers = bin_edges[:-1]+step_aux/2.\n",
    "    \n",
    "    # data off limits is put at the bins in the extrems\n",
    "    field[field < bin_centers[0]] = bin_centers[0]\n",
    "    field[field > bin_centers[-1]] = bin_centers[-1]\n",
    "    \n",
    "    return np.histogram(field, bins=bin_edges)"
   ]
  },
  {
   "cell_type": "code",
   "execution_count": 5,
   "metadata": {},
   "outputs": [],
   "source": [
    "def add_1d_hist(fbasepath, feature, vmin, vmax, step, target=None, target_filter=None):\n",
    "    flist = glob.glob(fbasepath+'*/NETCDF/'+feature+'/'+'*.nc')\n",
    "    if len(flist) == 0:\n",
    "        return None\n",
    "    flist.sort()\n",
    "    \n",
    "    hist_1d = None\n",
    "    for fname in flist:\n",
    "        # Get time step\n",
    "        bfile = os.path.basename(fname)\n",
    "        dt_str = bfile[0:14]\n",
    "        print(dt_str, end=\"\\r\", flush=True)\n",
    "        \n",
    "        # get target file name    \n",
    "        if target is not None:\n",
    "            tflist = glob.glob(fbasepath+'*/NETCDF/'+target+'/'+dt_str+'*.nc')\n",
    "            if len(tflist) == 0:\n",
    "                continue\n",
    "            \n",
    "        # read data\n",
    "        data = read_nc(fname).flatten()\n",
    "        \n",
    "        if target_filter is not None:\n",
    "            tdata = read_nc(tflist[0]).flatten()\n",
    "            tdata[tdata == 1] = 0\n",
    "            tdata[tdata == 2] = 1\n",
    "            data = data[tdata == target_filter]\n",
    "            \n",
    "        if hist_1d is None:\n",
    "            hist_1d, bin_edges = compute_1d_hist(data, vmin, vmax, step)\n",
    "        else:    \n",
    "            hist_1d_aux, bin_edges = compute_1d_hist(data, vmin, vmax, step)\n",
    "            hist_1d += hist_1d_aux\n",
    "    \n",
    "    return hist_1d, bin_edges        "
   ]
  },
  {
   "cell_type": "code",
   "execution_count": 6,
   "metadata": {},
   "outputs": [],
   "source": [
    "def plot_1d_hist(hist_1d, bin_edges, feature, target_filter=None):\n",
    "    fig = plt.figure(figsize=(8, 5))\n",
    "    ax = fig.add_subplot(111)\n",
    "    \n",
    "    ax.bar(bin_edges[:-1], hist_1d, align='edge', width=bin_edges[1]-bin_edges[0])\n",
    "    \n",
    "    ax.set_xlabel(feature)\n",
    "    ax.set_ylabel('Number of pixels')\n",
    "    if target_filter is None:\n",
    "        ax.set_title('All data')\n",
    "    elif target_filter == 0:\n",
    "        ax.set_title('No POH90')\n",
    "    else:\n",
    "        ax.set_title('POH90')\n",
    "        \n",
    "    fig.tight_layout()"
   ]
  },
  {
   "cell_type": "code",
   "execution_count": 7,
   "metadata": {},
   "outputs": [],
   "source": [
    "def save_1d_hist(hist_1d, bin_edges, feature, target_filter=None):\n",
    "    if target_filter is None:\n",
    "        lab = 'all_data'\n",
    "    elif target_filter == 0:\n",
    "        lab = 'No_POH90'\n",
    "    else:\n",
    "        lab = 'POH90'\n",
    "    \n",
    "    # Save data into a .npz file\n",
    "    np.savez(\n",
    "        '/data/ml_course/05_Capstone_project/hist_'+lab+'_'+feature+'.npz',\n",
    "        hist=hist_1d, bin_edges=bin_edges)"
   ]
  },
  {
   "cell_type": "markdown",
   "metadata": {},
   "source": [
    "# HRV_norm texture histogram"
   ]
  },
  {
   "cell_type": "code",
   "execution_count": 8,
   "metadata": {},
   "outputs": [],
   "source": [
    "fbasepath = '/data/pyrad_products/MSG_ML/'\n",
    "feature = 'HRV_norm_text'\n",
    "target = 'POH90'\n",
    "\n",
    "vmin = 0.\n",
    "vmax = 100.\n",
    "step = 1."
   ]
  },
  {
   "cell_type": "markdown",
   "metadata": {},
   "source": [
    "## All data"
   ]
  },
  {
   "cell_type": "code",
   "execution_count": 9,
   "metadata": {},
   "outputs": [
    {
     "name": "stdout",
     "output_type": "stream",
     "text": [
      "20200731173000\r"
     ]
    }
   ],
   "source": [
    "hist_1d, bin_edges = add_1d_hist(\n",
    "    fbasepath, feature, vmin, vmax, step, target=None, target_filter=None)"
   ]
  },
  {
   "cell_type": "code",
   "execution_count": 10,
   "metadata": {},
   "outputs": [
    {
     "data": {
      "image/png": "[encoded data removed]",
      "text/plain": [
       "<Figure size 576x360 with 1 Axes>"
      ]
     },
     "metadata": {
      "needs_background": "light"
     },
     "output_type": "display_data"
    }
   ],
   "source": [
    "plot_1d_hist(hist_1d, bin_edges, feature, target_filter=None)"
   ]
  },
  {
   "cell_type": "code",
   "execution_count": 11,
   "metadata": {},
   "outputs": [],
   "source": [
    "save_1d_hist(hist_1d, bin_edges, feature, target_filter=None)"
   ]
  },
  {
   "cell_type": "markdown",
   "metadata": {},
   "source": [
    "## No hail"
   ]
  },
  {
   "cell_type": "code",
   "execution_count": 12,
   "metadata": {},
   "outputs": [
    {
     "name": "stdout",
     "output_type": "stream",
     "text": [
      "20200731173000\r"
     ]
    }
   ],
   "source": [
    "hist_1d, bin_edges = add_1d_hist(\n",
    "    fbasepath, feature, vmin, vmax, step, target=target, target_filter=0)"
   ]
  },
  {
   "cell_type": "code",
   "execution_count": 13,
   "metadata": {},
   "outputs": [
    {
     "data": {
      "image/png": "[encoded data removed]",
      "text/plain": [
       "<Figure size 576x360 with 1 Axes>"
      ]
     },
     "metadata": {
      "needs_background": "light"
     },
     "output_type": "display_data"
    }
   ],
   "source": [
    "plot_1d_hist(hist_1d, bin_edges, feature, target_filter=0)"
   ]
  },
  {
   "cell_type": "code",
   "execution_count": 14,
   "metadata": {},
   "outputs": [],
   "source": [
    "save_1d_hist(hist_1d, bin_edges, feature, target_filter=0)"
   ]
  },
  {
   "cell_type": "markdown",
   "metadata": {},
   "source": [
    "## Hail"
   ]
  },
  {
   "cell_type": "code",
   "execution_count": 15,
   "metadata": {},
   "outputs": [
    {
     "name": "stdout",
     "output_type": "stream",
     "text": [
      "20200731173000\r"
     ]
    }
   ],
   "source": [
    "hist_1d, bin_edges = add_1d_hist(\n",
    "    fbasepath, feature, vmin, vmax, step, target=target, target_filter=1)"
   ]
  },
  {
   "cell_type": "code",
   "execution_count": 16,
   "metadata": {},
   "outputs": [
    {
     "data": {
      "image/png": "[encoded data removed]",
      "text/plain": [
       "<Figure size 576x360 with 1 Axes>"
      ]
     },
     "metadata": {
      "needs_background": "light"
     },
     "output_type": "display_data"
    }
   ],
   "source": [
    "plot_1d_hist(hist_1d, bin_edges, feature, target_filter=1)"
   ]
  },
  {
   "cell_type": "code",
   "execution_count": 17,
   "metadata": {},
   "outputs": [],
   "source": [
    "save_1d_hist(hist_1d, bin_edges, feature, target_filter=1)"
   ]
  },
  {
   "cell_type": "markdown",
   "metadata": {},
   "source": [
    "# IR texture histogram"
   ]
  },
  {
   "cell_type": "code",
   "execution_count": 18,
   "metadata": {},
   "outputs": [],
   "source": [
    "fbasepath = '/data/pyrad_products/MSG_ML/'\n",
    "feature = 'IR_108_text'\n",
    "target = 'POH90'\n",
    "\n",
    "vmin = 0.\n",
    "vmax = 40.\n",
    "step = 1."
   ]
  },
  {
   "cell_type": "markdown",
   "metadata": {},
   "source": [
    "## All data"
   ]
  },
  {
   "cell_type": "code",
   "execution_count": 19,
   "metadata": {},
   "outputs": [
    {
     "name": "stdout",
     "output_type": "stream",
     "text": [
      "20200731173000\r"
     ]
    }
   ],
   "source": [
    "hist_1d, bin_edges = add_1d_hist(\n",
    "    fbasepath, feature, vmin, vmax, step, target=None, target_filter=None)"
   ]
  },
  {
   "cell_type": "code",
   "execution_count": 20,
   "metadata": {},
   "outputs": [
    {
     "data": {
      "image/png": "[encoded data removed]",
      "text/plain": [
       "<Figure size 576x360 with 1 Axes>"
      ]
     },
     "metadata": {
      "needs_background": "light"
     },
     "output_type": "display_data"
    }
   ],
   "source": [
    "plot_1d_hist(hist_1d, bin_edges, feature, target_filter=None)"
   ]
  },
  {
   "cell_type": "code",
   "execution_count": 21,
   "metadata": {},
   "outputs": [],
   "source": [
    "save_1d_hist(hist_1d, bin_edges, feature, target_filter=None)"
   ]
  },
  {
   "cell_type": "markdown",
   "metadata": {},
   "source": [
    "## No hail"
   ]
  },
  {
   "cell_type": "code",
   "execution_count": 22,
   "metadata": {},
   "outputs": [
    {
     "name": "stdout",
     "output_type": "stream",
     "text": [
      "20200731173000\r"
     ]
    }
   ],
   "source": [
    "hist_1d, bin_edges = add_1d_hist(\n",
    "    fbasepath, feature, vmin, vmax, step, target=target, target_filter=0)"
   ]
  },
  {
   "cell_type": "code",
   "execution_count": 23,
   "metadata": {},
   "outputs": [
    {
     "data": {
      "image/png": "[encoded data removed]",
      "text/plain": [
       "<Figure size 576x360 with 1 Axes>"
      ]
     },
     "metadata": {
      "needs_background": "light"
     },
     "output_type": "display_data"
    }
   ],
   "source": [
    "plot_1d_hist(hist_1d, bin_edges, feature, target_filter=0)"
   ]
  },
  {
   "cell_type": "code",
   "execution_count": 24,
   "metadata": {},
   "outputs": [],
   "source": [
    "save_1d_hist(hist_1d, bin_edges, feature, target_filter=0)"
   ]
  },
  {
   "cell_type": "markdown",
   "metadata": {},
   "source": [
    "## Hail"
   ]
  },
  {
   "cell_type": "code",
   "execution_count": 25,
   "metadata": {},
   "outputs": [
    {
     "name": "stdout",
     "output_type": "stream",
     "text": [
      "20200731173000\r"
     ]
    }
   ],
   "source": [
    "hist_1d, bin_edges = add_1d_hist(\n",
    "    fbasepath, feature, vmin, vmax, step, target=target, target_filter=1)"
   ]
  },
  {
   "cell_type": "code",
   "execution_count": 26,
   "metadata": {},
   "outputs": [
    {
     "data": {
      "image/png": "[encoded data removed]",
      "text/plain": [
       "<Figure size 576x360 with 1 Axes>"
      ]
     },
     "metadata": {
      "needs_background": "light"
     },
     "output_type": "display_data"
    }
   ],
   "source": [
    "plot_1d_hist(hist_1d, bin_edges, feature, target_filter=1)"
   ]
  },
  {
   "cell_type": "code",
   "execution_count": 27,
   "metadata": {},
   "outputs": [],
   "source": [
    "save_1d_hist(hist_1d, bin_edges, feature, target_filter=1)"
   ]
  },
  {
   "cell_type": "markdown",
   "metadata": {},
   "source": [
    "# Channel differences histogram"
   ]
  },
  {
   "cell_type": "code",
   "execution_count": 28,
   "metadata": {},
   "outputs": [],
   "source": [
    "fbasepath = '/data/pyrad_products/MSG_ML/'\n",
    "feature = 'WV_062-IR_108_text'\n",
    "target = 'POH90'\n",
    "\n",
    "vmin = 0.\n",
    "vmax = 30.\n",
    "step = 1."
   ]
  },
  {
   "cell_type": "markdown",
   "metadata": {},
   "source": [
    "## All data"
   ]
  },
  {
   "cell_type": "code",
   "execution_count": 29,
   "metadata": {},
   "outputs": [
    {
     "name": "stdout",
     "output_type": "stream",
     "text": [
      "20200731173000\r"
     ]
    }
   ],
   "source": [
    "hist_1d, bin_edges = add_1d_hist(\n",
    "    fbasepath, feature, vmin, vmax, step, target=None, target_filter=None)"
   ]
  },
  {
   "cell_type": "code",
   "execution_count": 30,
   "metadata": {},
   "outputs": [
    {
     "data": {
      "image/png": "[encoded data removed]",
      "text/plain": [
       "<Figure size 576x360 with 1 Axes>"
      ]
     },
     "metadata": {
      "needs_background": "light"
     },
     "output_type": "display_data"
    }
   ],
   "source": [
    "plot_1d_hist(hist_1d, bin_edges, feature, target_filter=None)"
   ]
  },
  {
   "cell_type": "code",
   "execution_count": 31,
   "metadata": {},
   "outputs": [],
   "source": [
    "save_1d_hist(hist_1d, bin_edges, feature, target_filter=None)"
   ]
  },
  {
   "cell_type": "markdown",
   "metadata": {},
   "source": [
    "## No hail"
   ]
  },
  {
   "cell_type": "code",
   "execution_count": 32,
   "metadata": {},
   "outputs": [
    {
     "name": "stdout",
     "output_type": "stream",
     "text": [
      "20200731173000\r"
     ]
    }
   ],
   "source": [
    "hist_1d, bin_edges = add_1d_hist(\n",
    "    fbasepath, feature, vmin, vmax, step, target=target, target_filter=0)"
   ]
  },
  {
   "cell_type": "code",
   "execution_count": 33,
   "metadata": {},
   "outputs": [
    {
     "data": {
      "image/png": "[encoded data removed]",
      "text/plain": [
       "<Figure size 576x360 with 1 Axes>"
      ]
     },
     "metadata": {
      "needs_background": "light"
     },
     "output_type": "display_data"
    }
   ],
   "source": [
    "plot_1d_hist(hist_1d, bin_edges, feature, target_filter=0)"
   ]
  },
  {
   "cell_type": "code",
   "execution_count": 34,
   "metadata": {},
   "outputs": [],
   "source": [
    "save_1d_hist(hist_1d, bin_edges, feature, target_filter=0)"
   ]
  },
  {
   "cell_type": "markdown",
   "metadata": {},
   "source": [
    "## Hail"
   ]
  },
  {
   "cell_type": "code",
   "execution_count": 35,
   "metadata": {},
   "outputs": [
    {
     "name": "stdout",
     "output_type": "stream",
     "text": [
      "20200731173000\r"
     ]
    }
   ],
   "source": [
    "hist_1d, bin_edges = add_1d_hist(\n",
    "    fbasepath, feature, vmin, vmax, step, target=target, target_filter=1)"
   ]
  },
  {
   "cell_type": "code",
   "execution_count": 36,
   "metadata": {},
   "outputs": [
    {
     "data": {
      "image/png": "[encoded data removed]",
      "text/plain": [
       "<Figure size 576x360 with 1 Axes>"
      ]
     },
     "metadata": {
      "needs_background": "light"
     },
     "output_type": "display_data"
    }
   ],
   "source": [
    "plot_1d_hist(hist_1d, bin_edges, feature, target_filter=1)"
   ]
  },
  {
   "cell_type": "code",
   "execution_count": 37,
   "metadata": {},
   "outputs": [],
   "source": [
    "save_1d_hist(hist_1d, bin_edges, feature, target_filter=1)"
   ]
  },
  {
   "cell_type": "code",
   "execution_count": null,
   "metadata": {},
   "outputs": [],
   "source": []
  }
 ],
 "metadata": {
  "kernelspec": {
   "display_name": "Python 3",
   "language": "python",
   "name": "python3"
  },
  "language_info": {
   "codemirror_mode": {
    "name": "ipython",
    "version": 3
   },
   "file_extension": ".py",
   "mimetype": "text/x-python",
   "name": "python",
   "nbconvert_exporter": "python",
   "pygments_lexer": "ipython3",
   "version": "3.7.9"
  }
 },
 "nbformat": 4,
 "nbformat_minor": 4
}
